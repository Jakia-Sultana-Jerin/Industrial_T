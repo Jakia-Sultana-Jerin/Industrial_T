{
 "cells": [
  {
   "cell_type": "code",
   "execution_count": 92,
   "metadata": {},
   "outputs": [],
   "source": [
    "from requests_html import HTMLSession\n",
    "\n",
    "url = \"https://thefinancialexpress.com.bd/page/economy/bangladesh\"\n",
    "\n",
    "session = HTMLSession()\n",
    "response = session.get(url)\n",
    "# title = response.html.find('h1', first=True).text\n",
    "# links = response.html.find('a')\n",
    "# for link in links:\n",
    "    # print(link)\n",
    "    # print(link.text, link.attrs['href'])\n",
    "\n",
    "\n",
    "\n"
   ]
  },
  {
   "cell_type": "code",
   "execution_count": 93,
   "metadata": {},
   "outputs": [
    {
     "data": {
      "text/plain": [
       "'Fund-sapping motivated megaprojects may be axed'"
      ]
     },
     "execution_count": 93,
     "metadata": {},
     "output_type": "execute_result"
    }
   ],
   "source": [
    "response.html.find('h3', first=True).text"
   ]
  },
  {
   "cell_type": "code",
   "execution_count": 115,
   "metadata": {},
   "outputs": [
    {
     "data": {
      "text/plain": [
       "'Fund-sapping motivated megaprojects may be axed'"
      ]
     },
     "execution_count": 115,
     "metadata": {},
     "output_type": "execute_result"
    }
   ],
   "source": [
    "response.html.find('a.line-clamp-3', first=True).text"
   ]
  },
  {
   "cell_type": "code",
   "execution_count": 119,
   "metadata": {},
   "outputs": [],
   "source": [
    "datetime_element = response.html.find('div.text-rose-600', first=True)"
   ]
  },
  {
   "cell_type": "code",
   "execution_count": 120,
   "metadata": {},
   "outputs": [
    {
     "ename": "ExpressionError",
     "evalue": "The pseudo-class :text-base is unknown",
     "output_type": "error",
     "traceback": [
      "\u001b[1;31m---------------------------------------------------------------------------\u001b[0m",
      "\u001b[1;31mExpressionError\u001b[0m                           Traceback (most recent call last)",
      "Cell \u001b[1;32mIn[120], line 1\u001b[0m\n\u001b[1;32m----> 1\u001b[0m datetime_element \u001b[38;5;241m=\u001b[39m \u001b[43mresponse\u001b[49m\u001b[38;5;241;43m.\u001b[39;49m\u001b[43mhtml\u001b[49m\u001b[38;5;241;43m.\u001b[39;49m\u001b[43mfind\u001b[49m\u001b[43m(\u001b[49m\u001b[38;5;124;43m'\u001b[39;49m\u001b[38;5;124;43mdiv.text-rose-600.font-bold.text-xs.md:text-base.text-center.lg:hidden.xl:hidden\u001b[39;49m\u001b[38;5;124;43m'\u001b[39;49m\u001b[43m,\u001b[49m\u001b[43m \u001b[49m\u001b[43mfirst\u001b[49m\u001b[38;5;241;43m=\u001b[39;49m\u001b[38;5;28;43;01mTrue\u001b[39;49;00m\u001b[43m)\u001b[49m\n\u001b[0;32m      3\u001b[0m \u001b[38;5;28;01mif\u001b[39;00m datetime_element:\n\u001b[0;32m      4\u001b[0m     news_datetime \u001b[38;5;241m=\u001b[39m datetime_element\u001b[38;5;241m.\u001b[39mattrs\u001b[38;5;241m.\u001b[39mget(\u001b[38;5;124m'\u001b[39m\u001b[38;5;124mdatetime\u001b[39m\u001b[38;5;124m'\u001b[39m, \u001b[38;5;124m'\u001b[39m\u001b[38;5;124mNo datetime attribute found\u001b[39m\u001b[38;5;124m'\u001b[39m)\n",
      "File \u001b[1;32m~\\AppData\\Roaming\\Python\\Python312\\site-packages\\requests_html.py:212\u001b[0m, in \u001b[0;36mBaseParser.find\u001b[1;34m(self, selector, containing, clean, first, _encoding)\u001b[0m\n\u001b[0;32m    207\u001b[0m     containing \u001b[38;5;241m=\u001b[39m [containing]\n\u001b[0;32m    209\u001b[0m encoding \u001b[38;5;241m=\u001b[39m _encoding \u001b[38;5;129;01mor\u001b[39;00m \u001b[38;5;28mself\u001b[39m\u001b[38;5;241m.\u001b[39mencoding\n\u001b[0;32m    210\u001b[0m elements \u001b[38;5;241m=\u001b[39m [\n\u001b[0;32m    211\u001b[0m     Element(element\u001b[38;5;241m=\u001b[39mfound, url\u001b[38;5;241m=\u001b[39m\u001b[38;5;28mself\u001b[39m\u001b[38;5;241m.\u001b[39murl, default_encoding\u001b[38;5;241m=\u001b[39mencoding)\n\u001b[1;32m--> 212\u001b[0m     \u001b[38;5;28;01mfor\u001b[39;00m found \u001b[38;5;129;01min\u001b[39;00m \u001b[38;5;28;43mself\u001b[39;49m\u001b[38;5;241;43m.\u001b[39;49m\u001b[43mpq\u001b[49m\u001b[43m(\u001b[49m\u001b[43mselector\u001b[49m\u001b[43m)\u001b[49m\n\u001b[0;32m    213\u001b[0m ]\n\u001b[0;32m    215\u001b[0m \u001b[38;5;28;01mif\u001b[39;00m containing:\n\u001b[0;32m    216\u001b[0m     elements_copy \u001b[38;5;241m=\u001b[39m elements\u001b[38;5;241m.\u001b[39mcopy()\n",
      "File \u001b[1;32m~\\AppData\\Roaming\\Python\\Python312\\site-packages\\pyquery\\pyquery.py:256\u001b[0m, in \u001b[0;36mPyQuery.__call__\u001b[1;34m(self, *args, **kwargs)\u001b[0m\n\u001b[0;32m    252\u001b[0m \u001b[38;5;28;01mif\u001b[39;00m (\u001b[38;5;28mlen\u001b[39m(args) \u001b[38;5;241m==\u001b[39m \u001b[38;5;241m1\u001b[39m \u001b[38;5;129;01mand\u001b[39;00m\n\u001b[0;32m    253\u001b[0m         \u001b[38;5;28misinstance\u001b[39m(args[\u001b[38;5;241m0\u001b[39m], \u001b[38;5;28mstr\u001b[39m) \u001b[38;5;129;01mand\u001b[39;00m\n\u001b[0;32m    254\u001b[0m         \u001b[38;5;129;01mnot\u001b[39;00m args[\u001b[38;5;241m0\u001b[39m]\u001b[38;5;241m.\u001b[39mstartswith(\u001b[38;5;124m'\u001b[39m\u001b[38;5;124m<\u001b[39m\u001b[38;5;124m'\u001b[39m)):\n\u001b[0;32m    255\u001b[0m     args \u001b[38;5;241m+\u001b[39m\u001b[38;5;241m=\u001b[39m (\u001b[38;5;28mself\u001b[39m,)\n\u001b[1;32m--> 256\u001b[0m result \u001b[38;5;241m=\u001b[39m \u001b[38;5;28;43mself\u001b[39;49m\u001b[38;5;241;43m.\u001b[39;49m\u001b[43m_copy\u001b[49m\u001b[43m(\u001b[49m\u001b[38;5;241;43m*\u001b[39;49m\u001b[43margs\u001b[49m\u001b[43m,\u001b[49m\u001b[43m \u001b[49m\u001b[43mparent\u001b[49m\u001b[38;5;241;43m=\u001b[39;49m\u001b[38;5;28;43mself\u001b[39;49m\u001b[43m,\u001b[49m\u001b[43m \u001b[49m\u001b[38;5;241;43m*\u001b[39;49m\u001b[38;5;241;43m*\u001b[39;49m\u001b[43mkwargs\u001b[49m\u001b[43m)\u001b[49m\n\u001b[0;32m    257\u001b[0m \u001b[38;5;28;01mreturn\u001b[39;00m result\n",
      "File \u001b[1;32m~\\AppData\\Roaming\\Python\\Python312\\site-packages\\pyquery\\pyquery.py:242\u001b[0m, in \u001b[0;36mPyQuery._copy\u001b[1;34m(self, *args, **kwargs)\u001b[0m\n\u001b[0;32m    240\u001b[0m \u001b[38;5;28;01mdef\u001b[39;00m \u001b[38;5;21m_copy\u001b[39m(\u001b[38;5;28mself\u001b[39m, \u001b[38;5;241m*\u001b[39margs, \u001b[38;5;241m*\u001b[39m\u001b[38;5;241m*\u001b[39mkwargs):\n\u001b[0;32m    241\u001b[0m     kwargs\u001b[38;5;241m.\u001b[39msetdefault(\u001b[38;5;124m'\u001b[39m\u001b[38;5;124mnamespaces\u001b[39m\u001b[38;5;124m'\u001b[39m, \u001b[38;5;28mself\u001b[39m\u001b[38;5;241m.\u001b[39mnamespaces)\n\u001b[1;32m--> 242\u001b[0m     \u001b[38;5;28;01mreturn\u001b[39;00m \u001b[38;5;28;43mself\u001b[39;49m\u001b[38;5;241;43m.\u001b[39;49m\u001b[38;5;18;43m__class__\u001b[39;49m\u001b[43m(\u001b[49m\u001b[38;5;241;43m*\u001b[39;49m\u001b[43margs\u001b[49m\u001b[43m,\u001b[49m\u001b[43m \u001b[49m\u001b[38;5;241;43m*\u001b[39;49m\u001b[38;5;241;43m*\u001b[39;49m\u001b[43mkwargs\u001b[49m\u001b[43m)\u001b[49m\n",
      "File \u001b[1;32m~\\AppData\\Roaming\\Python\\Python312\\site-packages\\pyquery\\pyquery.py:227\u001b[0m, in \u001b[0;36mPyQuery.__init__\u001b[1;34m(self, *args, **kwargs)\u001b[0m\n\u001b[0;32m    225\u001b[0m \u001b[38;5;66;03m# select nodes\u001b[39;00m\n\u001b[0;32m    226\u001b[0m \u001b[38;5;28;01mif\u001b[39;00m elements \u001b[38;5;129;01mand\u001b[39;00m selector \u001b[38;5;129;01mis\u001b[39;00m \u001b[38;5;129;01mnot\u001b[39;00m no_default:\n\u001b[1;32m--> 227\u001b[0m     xpath \u001b[38;5;241m=\u001b[39m \u001b[38;5;28;43mself\u001b[39;49m\u001b[38;5;241;43m.\u001b[39;49m\u001b[43m_css_to_xpath\u001b[49m\u001b[43m(\u001b[49m\u001b[43mselector\u001b[49m\u001b[43m)\u001b[49m\n\u001b[0;32m    228\u001b[0m     results \u001b[38;5;241m=\u001b[39m []\n\u001b[0;32m    229\u001b[0m     \u001b[38;5;28;01mfor\u001b[39;00m tag \u001b[38;5;129;01min\u001b[39;00m elements:\n",
      "File \u001b[1;32m~\\AppData\\Roaming\\Python\\Python312\\site-packages\\pyquery\\pyquery.py:238\u001b[0m, in \u001b[0;36mPyQuery._css_to_xpath\u001b[1;34m(self, selector, prefix)\u001b[0m\n\u001b[0;32m    236\u001b[0m \u001b[38;5;28;01mdef\u001b[39;00m \u001b[38;5;21m_css_to_xpath\u001b[39m(\u001b[38;5;28mself\u001b[39m, selector, prefix\u001b[38;5;241m=\u001b[39m\u001b[38;5;124m'\u001b[39m\u001b[38;5;124mdescendant-or-self::\u001b[39m\u001b[38;5;124m'\u001b[39m):\n\u001b[0;32m    237\u001b[0m     selector \u001b[38;5;241m=\u001b[39m selector\u001b[38;5;241m.\u001b[39mreplace(\u001b[38;5;124m'\u001b[39m\u001b[38;5;124m[@\u001b[39m\u001b[38;5;124m'\u001b[39m, \u001b[38;5;124m'\u001b[39m\u001b[38;5;124m[\u001b[39m\u001b[38;5;124m'\u001b[39m)\n\u001b[1;32m--> 238\u001b[0m     \u001b[38;5;28;01mreturn\u001b[39;00m \u001b[38;5;28;43mself\u001b[39;49m\u001b[38;5;241;43m.\u001b[39;49m\u001b[43m_translator\u001b[49m\u001b[38;5;241;43m.\u001b[39;49m\u001b[43mcss_to_xpath\u001b[49m\u001b[43m(\u001b[49m\u001b[43mselector\u001b[49m\u001b[43m,\u001b[49m\u001b[43m \u001b[49m\u001b[43mprefix\u001b[49m\u001b[43m)\u001b[49m\n",
      "File \u001b[1;32m~\\AppData\\Roaming\\Python\\Python312\\site-packages\\cssselect\\xpath.py:222\u001b[0m, in \u001b[0;36mGenericTranslator.css_to_xpath\u001b[1;34m(self, css, prefix)\u001b[0m\n\u001b[0;32m    203\u001b[0m \u001b[38;5;28;01mdef\u001b[39;00m \u001b[38;5;21mcss_to_xpath\u001b[39m(\u001b[38;5;28mself\u001b[39m, css: \u001b[38;5;28mstr\u001b[39m, prefix: \u001b[38;5;28mstr\u001b[39m \u001b[38;5;241m=\u001b[39m \u001b[38;5;124m\"\u001b[39m\u001b[38;5;124mdescendant-or-self::\u001b[39m\u001b[38;5;124m\"\u001b[39m) \u001b[38;5;241m-\u001b[39m\u001b[38;5;241m>\u001b[39m \u001b[38;5;28mstr\u001b[39m:\n\u001b[0;32m    204\u001b[0m \u001b[38;5;250m    \u001b[39m\u001b[38;5;124;03m\"\"\"Translate a *group of selectors* to XPath.\u001b[39;00m\n\u001b[0;32m    205\u001b[0m \n\u001b[0;32m    206\u001b[0m \u001b[38;5;124;03m    Pseudo-elements are not supported here since XPath only knows\u001b[39;00m\n\u001b[1;32m   (...)\u001b[0m\n\u001b[0;32m    220\u001b[0m \n\u001b[0;32m    221\u001b[0m \u001b[38;5;124;03m    \"\"\"\u001b[39;00m\n\u001b[1;32m--> 222\u001b[0m     \u001b[38;5;28;01mreturn\u001b[39;00m \u001b[38;5;124;43m\"\u001b[39;49m\u001b[38;5;124;43m | \u001b[39;49m\u001b[38;5;124;43m\"\u001b[39;49m\u001b[38;5;241;43m.\u001b[39;49m\u001b[43mjoin\u001b[49m\u001b[43m(\u001b[49m\n\u001b[0;32m    223\u001b[0m \u001b[43m        \u001b[49m\u001b[38;5;28;43mself\u001b[39;49m\u001b[38;5;241;43m.\u001b[39;49m\u001b[43mselector_to_xpath\u001b[49m\u001b[43m(\u001b[49m\u001b[43mselector\u001b[49m\u001b[43m,\u001b[49m\u001b[43m \u001b[49m\u001b[43mprefix\u001b[49m\u001b[43m,\u001b[49m\u001b[43m \u001b[49m\u001b[43mtranslate_pseudo_elements\u001b[49m\u001b[38;5;241;43m=\u001b[39;49m\u001b[38;5;28;43;01mTrue\u001b[39;49;00m\u001b[43m)\u001b[49m\n\u001b[0;32m    224\u001b[0m \u001b[43m        \u001b[49m\u001b[38;5;28;43;01mfor\u001b[39;49;00m\u001b[43m \u001b[49m\u001b[43mselector\u001b[49m\u001b[43m \u001b[49m\u001b[38;5;129;43;01min\u001b[39;49;00m\u001b[43m \u001b[49m\u001b[43mparse\u001b[49m\u001b[43m(\u001b[49m\u001b[43mcss\u001b[49m\u001b[43m)\u001b[49m\n\u001b[0;32m    225\u001b[0m \u001b[43m    \u001b[49m\u001b[43m)\u001b[49m\n",
      "File \u001b[1;32m~\\AppData\\Roaming\\Python\\Python312\\site-packages\\cssselect\\xpath.py:223\u001b[0m, in \u001b[0;36m<genexpr>\u001b[1;34m(.0)\u001b[0m\n\u001b[0;32m    203\u001b[0m \u001b[38;5;28;01mdef\u001b[39;00m \u001b[38;5;21mcss_to_xpath\u001b[39m(\u001b[38;5;28mself\u001b[39m, css: \u001b[38;5;28mstr\u001b[39m, prefix: \u001b[38;5;28mstr\u001b[39m \u001b[38;5;241m=\u001b[39m \u001b[38;5;124m\"\u001b[39m\u001b[38;5;124mdescendant-or-self::\u001b[39m\u001b[38;5;124m\"\u001b[39m) \u001b[38;5;241m-\u001b[39m\u001b[38;5;241m>\u001b[39m \u001b[38;5;28mstr\u001b[39m:\n\u001b[0;32m    204\u001b[0m \u001b[38;5;250m    \u001b[39m\u001b[38;5;124;03m\"\"\"Translate a *group of selectors* to XPath.\u001b[39;00m\n\u001b[0;32m    205\u001b[0m \n\u001b[0;32m    206\u001b[0m \u001b[38;5;124;03m    Pseudo-elements are not supported here since XPath only knows\u001b[39;00m\n\u001b[1;32m   (...)\u001b[0m\n\u001b[0;32m    220\u001b[0m \n\u001b[0;32m    221\u001b[0m \u001b[38;5;124;03m    \"\"\"\u001b[39;00m\n\u001b[0;32m    222\u001b[0m     \u001b[38;5;28;01mreturn\u001b[39;00m \u001b[38;5;124m\"\u001b[39m\u001b[38;5;124m | \u001b[39m\u001b[38;5;124m\"\u001b[39m\u001b[38;5;241m.\u001b[39mjoin(\n\u001b[1;32m--> 223\u001b[0m         \u001b[38;5;28;43mself\u001b[39;49m\u001b[38;5;241;43m.\u001b[39;49m\u001b[43mselector_to_xpath\u001b[49m\u001b[43m(\u001b[49m\u001b[43mselector\u001b[49m\u001b[43m,\u001b[49m\u001b[43m \u001b[49m\u001b[43mprefix\u001b[49m\u001b[43m,\u001b[49m\u001b[43m \u001b[49m\u001b[43mtranslate_pseudo_elements\u001b[49m\u001b[38;5;241;43m=\u001b[39;49m\u001b[38;5;28;43;01mTrue\u001b[39;49;00m\u001b[43m)\u001b[49m\n\u001b[0;32m    224\u001b[0m         \u001b[38;5;28;01mfor\u001b[39;00m selector \u001b[38;5;129;01min\u001b[39;00m parse(css)\n\u001b[0;32m    225\u001b[0m     )\n",
      "File \u001b[1;32m~\\AppData\\Roaming\\Python\\Python312\\site-packages\\cssselect\\xpath.py:256\u001b[0m, in \u001b[0;36mGenericTranslator.selector_to_xpath\u001b[1;34m(self, selector, prefix, translate_pseudo_elements)\u001b[0m\n\u001b[0;32m    254\u001b[0m \u001b[38;5;28;01mif\u001b[39;00m \u001b[38;5;129;01mnot\u001b[39;00m tree:\n\u001b[0;32m    255\u001b[0m     \u001b[38;5;28;01mraise\u001b[39;00m \u001b[38;5;167;01mTypeError\u001b[39;00m(\u001b[38;5;124m\"\u001b[39m\u001b[38;5;124mExpected a parsed selector, got \u001b[39m\u001b[38;5;132;01m%r\u001b[39;00m\u001b[38;5;124m\"\u001b[39m \u001b[38;5;241m%\u001b[39m (selector,))\n\u001b[1;32m--> 256\u001b[0m xpath \u001b[38;5;241m=\u001b[39m \u001b[38;5;28;43mself\u001b[39;49m\u001b[38;5;241;43m.\u001b[39;49m\u001b[43mxpath\u001b[49m\u001b[43m(\u001b[49m\u001b[43mtree\u001b[49m\u001b[43m)\u001b[49m\n\u001b[0;32m    257\u001b[0m \u001b[38;5;28;01massert\u001b[39;00m \u001b[38;5;28misinstance\u001b[39m(xpath, \u001b[38;5;28mself\u001b[39m\u001b[38;5;241m.\u001b[39mxpathexpr_cls)  \u001b[38;5;66;03m# help debug a missing 'return'\u001b[39;00m\n\u001b[0;32m    258\u001b[0m \u001b[38;5;28;01mif\u001b[39;00m translate_pseudo_elements \u001b[38;5;129;01mand\u001b[39;00m selector\u001b[38;5;241m.\u001b[39mpseudo_element:\n",
      "File \u001b[1;32m~\\AppData\\Roaming\\Python\\Python312\\site-packages\\cssselect\\xpath.py:294\u001b[0m, in \u001b[0;36mGenericTranslator.xpath\u001b[1;34m(self, parsed_selector)\u001b[0m\n\u001b[0;32m    292\u001b[0m \u001b[38;5;28;01mif\u001b[39;00m method \u001b[38;5;129;01mis\u001b[39;00m \u001b[38;5;28;01mNone\u001b[39;00m:\n\u001b[0;32m    293\u001b[0m     \u001b[38;5;28;01mraise\u001b[39;00m ExpressionError(\u001b[38;5;124m\"\u001b[39m\u001b[38;5;132;01m%s\u001b[39;00m\u001b[38;5;124m is not supported.\u001b[39m\u001b[38;5;124m\"\u001b[39m \u001b[38;5;241m%\u001b[39m type_name)\n\u001b[1;32m--> 294\u001b[0m \u001b[38;5;28;01mreturn\u001b[39;00m typing\u001b[38;5;241m.\u001b[39mcast(XPathExpr, \u001b[43mmethod\u001b[49m\u001b[43m(\u001b[49m\u001b[43mparsed_selector\u001b[49m\u001b[43m)\u001b[49m)\n",
      "File \u001b[1;32m~\\AppData\\Roaming\\Python\\Python312\\site-packages\\cssselect\\xpath.py:360\u001b[0m, in \u001b[0;36mGenericTranslator.xpath_pseudo\u001b[1;34m(self, pseudo)\u001b[0m\n\u001b[0;32m    357\u001b[0m \u001b[38;5;28;01mif\u001b[39;00m \u001b[38;5;129;01mnot\u001b[39;00m method:\n\u001b[0;32m    358\u001b[0m     \u001b[38;5;66;03m# TODO: better error message for pseudo-elements?\u001b[39;00m\n\u001b[0;32m    359\u001b[0m     \u001b[38;5;28;01mraise\u001b[39;00m ExpressionError(\u001b[38;5;124m\"\u001b[39m\u001b[38;5;124mThe pseudo-class :\u001b[39m\u001b[38;5;132;01m%s\u001b[39;00m\u001b[38;5;124m is unknown\u001b[39m\u001b[38;5;124m\"\u001b[39m \u001b[38;5;241m%\u001b[39m pseudo\u001b[38;5;241m.\u001b[39mident)\n\u001b[1;32m--> 360\u001b[0m \u001b[38;5;28;01mreturn\u001b[39;00m typing\u001b[38;5;241m.\u001b[39mcast(XPathExpr, method(\u001b[38;5;28;43mself\u001b[39;49m\u001b[38;5;241;43m.\u001b[39;49m\u001b[43mxpath\u001b[49m\u001b[43m(\u001b[49m\u001b[43mpseudo\u001b[49m\u001b[38;5;241;43m.\u001b[39;49m\u001b[43mselector\u001b[49m\u001b[43m)\u001b[49m))\n",
      "File \u001b[1;32m~\\AppData\\Roaming\\Python\\Python312\\site-packages\\cssselect\\xpath.py:294\u001b[0m, in \u001b[0;36mGenericTranslator.xpath\u001b[1;34m(self, parsed_selector)\u001b[0m\n\u001b[0;32m    292\u001b[0m \u001b[38;5;28;01mif\u001b[39;00m method \u001b[38;5;129;01mis\u001b[39;00m \u001b[38;5;28;01mNone\u001b[39;00m:\n\u001b[0;32m    293\u001b[0m     \u001b[38;5;28;01mraise\u001b[39;00m ExpressionError(\u001b[38;5;124m\"\u001b[39m\u001b[38;5;132;01m%s\u001b[39;00m\u001b[38;5;124m is not supported.\u001b[39m\u001b[38;5;124m\"\u001b[39m \u001b[38;5;241m%\u001b[39m type_name)\n\u001b[1;32m--> 294\u001b[0m \u001b[38;5;28;01mreturn\u001b[39;00m typing\u001b[38;5;241m.\u001b[39mcast(XPathExpr, \u001b[43mmethod\u001b[49m\u001b[43m(\u001b[49m\u001b[43mparsed_selector\u001b[49m\u001b[43m)\u001b[49m)\n",
      "File \u001b[1;32m~\\AppData\\Roaming\\Python\\Python312\\site-packages\\cssselect\\xpath.py:389\u001b[0m, in \u001b[0;36mGenericTranslator.xpath_class\u001b[1;34m(self, class_selector)\u001b[0m\n\u001b[0;32m    387\u001b[0m \u001b[38;5;250m\u001b[39m\u001b[38;5;124;03m\"\"\"Translate a class selector.\"\"\"\u001b[39;00m\n\u001b[0;32m    388\u001b[0m \u001b[38;5;66;03m# .foo is defined as [class~=foo] in the spec.\u001b[39;00m\n\u001b[1;32m--> 389\u001b[0m xpath \u001b[38;5;241m=\u001b[39m \u001b[38;5;28;43mself\u001b[39;49m\u001b[38;5;241;43m.\u001b[39;49m\u001b[43mxpath\u001b[49m\u001b[43m(\u001b[49m\u001b[43mclass_selector\u001b[49m\u001b[38;5;241;43m.\u001b[39;49m\u001b[43mselector\u001b[49m\u001b[43m)\u001b[49m\n\u001b[0;32m    390\u001b[0m \u001b[38;5;28;01mreturn\u001b[39;00m \u001b[38;5;28mself\u001b[39m\u001b[38;5;241m.\u001b[39mxpath_attrib_includes(xpath, \u001b[38;5;124m\"\u001b[39m\u001b[38;5;124m@class\u001b[39m\u001b[38;5;124m\"\u001b[39m, class_selector\u001b[38;5;241m.\u001b[39mclass_name)\n",
      "File \u001b[1;32m~\\AppData\\Roaming\\Python\\Python312\\site-packages\\cssselect\\xpath.py:294\u001b[0m, in \u001b[0;36mGenericTranslator.xpath\u001b[1;34m(self, parsed_selector)\u001b[0m\n\u001b[0;32m    292\u001b[0m \u001b[38;5;28;01mif\u001b[39;00m method \u001b[38;5;129;01mis\u001b[39;00m \u001b[38;5;28;01mNone\u001b[39;00m:\n\u001b[0;32m    293\u001b[0m     \u001b[38;5;28;01mraise\u001b[39;00m ExpressionError(\u001b[38;5;124m\"\u001b[39m\u001b[38;5;132;01m%s\u001b[39;00m\u001b[38;5;124m is not supported.\u001b[39m\u001b[38;5;124m\"\u001b[39m \u001b[38;5;241m%\u001b[39m type_name)\n\u001b[1;32m--> 294\u001b[0m \u001b[38;5;28;01mreturn\u001b[39;00m typing\u001b[38;5;241m.\u001b[39mcast(XPathExpr, \u001b[43mmethod\u001b[49m\u001b[43m(\u001b[49m\u001b[43mparsed_selector\u001b[49m\u001b[43m)\u001b[49m)\n",
      "File \u001b[1;32m~\\AppData\\Roaming\\Python\\Python312\\site-packages\\cssselect\\xpath.py:360\u001b[0m, in \u001b[0;36mGenericTranslator.xpath_pseudo\u001b[1;34m(self, pseudo)\u001b[0m\n\u001b[0;32m    357\u001b[0m \u001b[38;5;28;01mif\u001b[39;00m \u001b[38;5;129;01mnot\u001b[39;00m method:\n\u001b[0;32m    358\u001b[0m     \u001b[38;5;66;03m# TODO: better error message for pseudo-elements?\u001b[39;00m\n\u001b[0;32m    359\u001b[0m     \u001b[38;5;28;01mraise\u001b[39;00m ExpressionError(\u001b[38;5;124m\"\u001b[39m\u001b[38;5;124mThe pseudo-class :\u001b[39m\u001b[38;5;132;01m%s\u001b[39;00m\u001b[38;5;124m is unknown\u001b[39m\u001b[38;5;124m\"\u001b[39m \u001b[38;5;241m%\u001b[39m pseudo\u001b[38;5;241m.\u001b[39mident)\n\u001b[1;32m--> 360\u001b[0m \u001b[38;5;28;01mreturn\u001b[39;00m typing\u001b[38;5;241m.\u001b[39mcast(XPathExpr, method(\u001b[38;5;28;43mself\u001b[39;49m\u001b[38;5;241;43m.\u001b[39;49m\u001b[43mxpath\u001b[49m\u001b[43m(\u001b[49m\u001b[43mpseudo\u001b[49m\u001b[38;5;241;43m.\u001b[39;49m\u001b[43mselector\u001b[49m\u001b[43m)\u001b[49m))\n",
      "File \u001b[1;32m~\\AppData\\Roaming\\Python\\Python312\\site-packages\\cssselect\\xpath.py:294\u001b[0m, in \u001b[0;36mGenericTranslator.xpath\u001b[1;34m(self, parsed_selector)\u001b[0m\n\u001b[0;32m    292\u001b[0m \u001b[38;5;28;01mif\u001b[39;00m method \u001b[38;5;129;01mis\u001b[39;00m \u001b[38;5;28;01mNone\u001b[39;00m:\n\u001b[0;32m    293\u001b[0m     \u001b[38;5;28;01mraise\u001b[39;00m ExpressionError(\u001b[38;5;124m\"\u001b[39m\u001b[38;5;132;01m%s\u001b[39;00m\u001b[38;5;124m is not supported.\u001b[39m\u001b[38;5;124m\"\u001b[39m \u001b[38;5;241m%\u001b[39m type_name)\n\u001b[1;32m--> 294\u001b[0m \u001b[38;5;28;01mreturn\u001b[39;00m typing\u001b[38;5;241m.\u001b[39mcast(XPathExpr, \u001b[43mmethod\u001b[49m\u001b[43m(\u001b[49m\u001b[43mparsed_selector\u001b[49m\u001b[43m)\u001b[49m)\n",
      "File \u001b[1;32m~\\AppData\\Roaming\\Python\\Python312\\site-packages\\cssselect\\xpath.py:389\u001b[0m, in \u001b[0;36mGenericTranslator.xpath_class\u001b[1;34m(self, class_selector)\u001b[0m\n\u001b[0;32m    387\u001b[0m \u001b[38;5;250m\u001b[39m\u001b[38;5;124;03m\"\"\"Translate a class selector.\"\"\"\u001b[39;00m\n\u001b[0;32m    388\u001b[0m \u001b[38;5;66;03m# .foo is defined as [class~=foo] in the spec.\u001b[39;00m\n\u001b[1;32m--> 389\u001b[0m xpath \u001b[38;5;241m=\u001b[39m \u001b[38;5;28;43mself\u001b[39;49m\u001b[38;5;241;43m.\u001b[39;49m\u001b[43mxpath\u001b[49m\u001b[43m(\u001b[49m\u001b[43mclass_selector\u001b[49m\u001b[38;5;241;43m.\u001b[39;49m\u001b[43mselector\u001b[49m\u001b[43m)\u001b[49m\n\u001b[0;32m    390\u001b[0m \u001b[38;5;28;01mreturn\u001b[39;00m \u001b[38;5;28mself\u001b[39m\u001b[38;5;241m.\u001b[39mxpath_attrib_includes(xpath, \u001b[38;5;124m\"\u001b[39m\u001b[38;5;124m@class\u001b[39m\u001b[38;5;124m\"\u001b[39m, class_selector\u001b[38;5;241m.\u001b[39mclass_name)\n",
      "File \u001b[1;32m~\\AppData\\Roaming\\Python\\Python312\\site-packages\\cssselect\\xpath.py:294\u001b[0m, in \u001b[0;36mGenericTranslator.xpath\u001b[1;34m(self, parsed_selector)\u001b[0m\n\u001b[0;32m    292\u001b[0m \u001b[38;5;28;01mif\u001b[39;00m method \u001b[38;5;129;01mis\u001b[39;00m \u001b[38;5;28;01mNone\u001b[39;00m:\n\u001b[0;32m    293\u001b[0m     \u001b[38;5;28;01mraise\u001b[39;00m ExpressionError(\u001b[38;5;124m\"\u001b[39m\u001b[38;5;132;01m%s\u001b[39;00m\u001b[38;5;124m is not supported.\u001b[39m\u001b[38;5;124m\"\u001b[39m \u001b[38;5;241m%\u001b[39m type_name)\n\u001b[1;32m--> 294\u001b[0m \u001b[38;5;28;01mreturn\u001b[39;00m typing\u001b[38;5;241m.\u001b[39mcast(XPathExpr, \u001b[43mmethod\u001b[49m\u001b[43m(\u001b[49m\u001b[43mparsed_selector\u001b[49m\u001b[43m)\u001b[49m)\n",
      "File \u001b[1;32m~\\AppData\\Roaming\\Python\\Python312\\site-packages\\cssselect\\xpath.py:389\u001b[0m, in \u001b[0;36mGenericTranslator.xpath_class\u001b[1;34m(self, class_selector)\u001b[0m\n\u001b[0;32m    387\u001b[0m \u001b[38;5;250m\u001b[39m\u001b[38;5;124;03m\"\"\"Translate a class selector.\"\"\"\u001b[39;00m\n\u001b[0;32m    388\u001b[0m \u001b[38;5;66;03m# .foo is defined as [class~=foo] in the spec.\u001b[39;00m\n\u001b[1;32m--> 389\u001b[0m xpath \u001b[38;5;241m=\u001b[39m \u001b[38;5;28;43mself\u001b[39;49m\u001b[38;5;241;43m.\u001b[39;49m\u001b[43mxpath\u001b[49m\u001b[43m(\u001b[49m\u001b[43mclass_selector\u001b[49m\u001b[38;5;241;43m.\u001b[39;49m\u001b[43mselector\u001b[49m\u001b[43m)\u001b[49m\n\u001b[0;32m    390\u001b[0m \u001b[38;5;28;01mreturn\u001b[39;00m \u001b[38;5;28mself\u001b[39m\u001b[38;5;241m.\u001b[39mxpath_attrib_includes(xpath, \u001b[38;5;124m\"\u001b[39m\u001b[38;5;124m@class\u001b[39m\u001b[38;5;124m\"\u001b[39m, class_selector\u001b[38;5;241m.\u001b[39mclass_name)\n",
      "File \u001b[1;32m~\\AppData\\Roaming\\Python\\Python312\\site-packages\\cssselect\\xpath.py:294\u001b[0m, in \u001b[0;36mGenericTranslator.xpath\u001b[1;34m(self, parsed_selector)\u001b[0m\n\u001b[0;32m    292\u001b[0m \u001b[38;5;28;01mif\u001b[39;00m method \u001b[38;5;129;01mis\u001b[39;00m \u001b[38;5;28;01mNone\u001b[39;00m:\n\u001b[0;32m    293\u001b[0m     \u001b[38;5;28;01mraise\u001b[39;00m ExpressionError(\u001b[38;5;124m\"\u001b[39m\u001b[38;5;132;01m%s\u001b[39;00m\u001b[38;5;124m is not supported.\u001b[39m\u001b[38;5;124m\"\u001b[39m \u001b[38;5;241m%\u001b[39m type_name)\n\u001b[1;32m--> 294\u001b[0m \u001b[38;5;28;01mreturn\u001b[39;00m typing\u001b[38;5;241m.\u001b[39mcast(XPathExpr, \u001b[43mmethod\u001b[49m\u001b[43m(\u001b[49m\u001b[43mparsed_selector\u001b[49m\u001b[43m)\u001b[49m)\n",
      "File \u001b[1;32m~\\AppData\\Roaming\\Python\\Python312\\site-packages\\cssselect\\xpath.py:359\u001b[0m, in \u001b[0;36mGenericTranslator.xpath_pseudo\u001b[1;34m(self, pseudo)\u001b[0m\n\u001b[0;32m    356\u001b[0m method \u001b[38;5;241m=\u001b[39m \u001b[38;5;28mgetattr\u001b[39m(\u001b[38;5;28mself\u001b[39m, method_name, \u001b[38;5;28;01mNone\u001b[39;00m)\n\u001b[0;32m    357\u001b[0m \u001b[38;5;28;01mif\u001b[39;00m \u001b[38;5;129;01mnot\u001b[39;00m method:\n\u001b[0;32m    358\u001b[0m     \u001b[38;5;66;03m# TODO: better error message for pseudo-elements?\u001b[39;00m\n\u001b[1;32m--> 359\u001b[0m     \u001b[38;5;28;01mraise\u001b[39;00m ExpressionError(\u001b[38;5;124m\"\u001b[39m\u001b[38;5;124mThe pseudo-class :\u001b[39m\u001b[38;5;132;01m%s\u001b[39;00m\u001b[38;5;124m is unknown\u001b[39m\u001b[38;5;124m\"\u001b[39m \u001b[38;5;241m%\u001b[39m pseudo\u001b[38;5;241m.\u001b[39mident)\n\u001b[0;32m    360\u001b[0m \u001b[38;5;28;01mreturn\u001b[39;00m typing\u001b[38;5;241m.\u001b[39mcast(XPathExpr, method(\u001b[38;5;28mself\u001b[39m\u001b[38;5;241m.\u001b[39mxpath(pseudo\u001b[38;5;241m.\u001b[39mselector)))\n",
      "\u001b[1;31mExpressionError\u001b[0m: The pseudo-class :text-base is unknown"
     ]
    }
   ],
   "source": [
    "datetime_element = response.html.find('div.text-rose-600.font-bold.text-xs.md:text-base.text-center.lg:hidden.xl:hidden', first=True)\n",
    "\n",
    "if datetime_element:\n",
    "    news_datetime = datetime_element.attrs.get('datetime', 'No datetime attribute found')\n",
    "    print(f\"News DateTime: {news_datetime}\")\n",
    "else:\n",
    "    print(\"The datetime element was not found.\")"
   ]
  },
  {
   "cell_type": "code",
   "execution_count": 109,
   "metadata": {},
   "outputs": [
    {
     "ename": "AttributeError",
     "evalue": "'NoneType' object has no attribute 'attrs'",
     "output_type": "error",
     "traceback": [
      "\u001b[1;31m---------------------------------------------------------------------------\u001b[0m",
      "\u001b[1;31mAttributeError\u001b[0m                            Traceback (most recent call last)",
      "Cell \u001b[1;32mIn[109], line 4\u001b[0m\n\u001b[0;32m      1\u001b[0m title \u001b[38;5;241m=\u001b[39m response\u001b[38;5;241m.\u001b[39mhtml\u001b[38;5;241m.\u001b[39mfind(\u001b[38;5;124m'\u001b[39m\u001b[38;5;124mh1\u001b[39m\u001b[38;5;124m'\u001b[39m, first\u001b[38;5;241m=\u001b[39m\u001b[38;5;28;01mTrue\u001b[39;00m)\n\u001b[0;32m      3\u001b[0m datetime_element \u001b[38;5;241m=\u001b[39m response\u001b[38;5;241m.\u001b[39mhtml\u001b[38;5;241m.\u001b[39mfind(\u001b[38;5;124m'\u001b[39m\u001b[38;5;124mtime\u001b[39m\u001b[38;5;124m'\u001b[39m, first\u001b[38;5;241m=\u001b[39m\u001b[38;5;28;01mTrue\u001b[39;00m)\n\u001b[1;32m----> 4\u001b[0m news_datetime \u001b[38;5;241m=\u001b[39m \u001b[43mdatetime_element\u001b[49m\u001b[38;5;241;43m.\u001b[39;49m\u001b[43mattrs\u001b[49m[\u001b[38;5;124m'\u001b[39m\u001b[38;5;124mdatetime\u001b[39m\u001b[38;5;124m'\u001b[39m]\n\u001b[0;32m      5\u001b[0m reporter \u001b[38;5;241m=\u001b[39m response\u001b[38;5;241m.\u001b[39mhtml\u001b[38;5;241m.\u001b[39mfind(\u001b[38;5;124m'\u001b[39m\u001b[38;5;124mh4.font-bold.text-xl\u001b[39m\u001b[38;5;124m'\u001b[39m,first\u001b[38;5;241m=\u001b[39m\u001b[38;5;28;01mTrue\u001b[39;00m)\u001b[38;5;241m.\u001b[39mtext\n\u001b[0;32m      8\u001b[0m news_body_element \u001b[38;5;241m=\u001b[39m response\u001b[38;5;241m.\u001b[39mhtml\u001b[38;5;241m.\u001b[39mfind(\u001b[38;5;124m'\u001b[39m\u001b[38;5;124mp\u001b[39m\u001b[38;5;124m'\u001b[39m)\n",
      "\u001b[1;31mAttributeError\u001b[0m: 'NoneType' object has no attribute 'attrs'"
     ]
    }
   ],
   "source": [
    "title = response.html.find('h1', first=True)\n",
    "\n",
    "datetime_element = response.html.find('time', first=True)\n",
    "news_datetime = datetime_element.attrs['datetime']\n",
    "reporter = response.html.find('h4.font-bold.text-xl',first=True).text\n",
    "\n",
    "\n",
    "news_body_element = response.html.find('p')\n",
    "news_body = \"\\n\".join([p.text for p in news_body_element])\n",
    "title, news_datetime, reporter, news_body"
   ]
  },
  {
   "cell_type": "code",
   "execution_count": 100,
   "metadata": {},
   "outputs": [
    {
     "data": {
      "text/plain": [
       "[]"
      ]
     },
     "execution_count": 100,
     "metadata": {},
     "output_type": "execute_result"
    }
   ],
   "source": [
    "response.html.find('img')"
   ]
  },
  {
   "cell_type": "code",
   "execution_count": 77,
   "metadata": {},
   "outputs": [
    {
     "data": {
      "text/plain": [
       "'Editor: Shamsul Huq Zahid'"
      ]
     },
     "execution_count": 77,
     "metadata": {},
     "output_type": "execute_result"
    }
   ],
   "source": [
    "response.html.find('h4.font-bold.text-xl', first=True).text"
   ]
  },
  {
   "cell_type": "code",
   "execution_count": 79,
   "metadata": {},
   "outputs": [
    {
     "data": {
      "text/plain": [
       "'Editor: Shamsul Huq Zahid'"
      ]
     },
     "execution_count": 79,
     "metadata": {},
     "output_type": "execute_result"
    }
   ],
   "source": [
    "reporter = response.html.find('h4.font-bold.text-xl',first=True).text\n",
    "reporter"
   ]
  },
  {
   "cell_type": "code",
   "execution_count": 3,
   "metadata": {},
   "outputs": [
    {
     "name": "stdout",
     "output_type": "stream",
     "text": [
      "/_nuxt/img/logo-m-d.fdbe9a9.png\n",
      "/_nuxt/img/logo-m-l.a7c55ba.png\n",
      "data:,\n",
      "data:,\n",
      "data:,\n",
      "data:,\n",
      "data:,\n",
      "data:,\n",
      "data:,\n",
      "data:,\n",
      "data:,\n",
      "data:,\n",
      "data:,\n",
      "data:,\n",
      "data:,\n"
     ]
    }
   ],
   "source": [
    "images_element = response.html.find('img')\n",
    "images_element, len(images_element)\n",
    "for images in images_element:\n",
    "    image_url = images.attrs['src']\n",
    "    print(image_url)"
   ]
  },
  {
   "cell_type": "code",
   "execution_count": 54,
   "metadata": {},
   "outputs": [
    {
     "data": {
      "text/plain": [
       "[<Element 'img' src='/_nuxt/img/logo-m-d.fdbe9a9.png' alt='The Financial Express' data-v-0a31308d=''>,\n",
       " <Element 'img' src='/_nuxt/img/logo-m-l.a7c55ba.png' alt='The Financial Express' data-v-0a31308d=''>,\n",
       " <Element 'img' src='data:,' alt='Fund-sapping motivated megaprojects may be axed' class=('v-lazy-image', 'aspect-w-3', 'aspect-h-2', 'pb-0', 'object-center', 'object-cover', 'mx-auto')>,\n",
       " <Element 'img' src='data:,' alt='No more ‘illegal’ liquidity support for weak banks: BB governor' class=('v-lazy-image', 'aspect-w-3', 'aspect-h-2', 'pb-0', 'object-center', 'object-cover', 'mx-auto')>,\n",
       " <Element 'img' src='data:,' alt='Govt raises emergency borrowing ceiling 50pc' class=('v-lazy-image', 'aspect-w-3', 'aspect-h-2', 'pb-0', 'object-center', 'object-cover', 'mx-auto')>,\n",
       " <Element 'img' src='data:,' alt='Revenue chief slams black money whitening scheme' class=('v-lazy-image', 'aspect-w-3', 'aspect-h-2', 'pb-0', 'object-center', 'object-cover', 'mx-auto')>,\n",
       " <Element 'img' src='data:,' alt='New NBR chief calls black money whitening scope an indecent deed' class=('v-lazy-image', 'aspect-w-3', 'aspect-h-2', 'pb-0', 'object-center', 'object-cover', 'mx-auto')>,\n",
       " <Element 'img' src='data:,' alt='Bangladesh Bank raises cash withdrawal limit to Tk 300,000' class=('v-lazy-image', 'aspect-w-3', 'aspect-h-2', 'pb-0', 'object-center', 'object-cover', 'mx-auto')>,\n",
       " <Element 'img' src='data:,' alt='Secondary trading of treasury bills, bonds jumps 56 pc in FY24' class=('v-lazy-image', 'aspect-w-3', 'aspect-h-2', 'pb-0', 'object-center', 'object-cover', 'mx-auto')>,\n",
       " <Element 'img' src='data:,' alt='Expats keen to remit thru banking channel' class=('v-lazy-image', 'aspect-w-3', 'aspect-h-2', 'pb-0', 'object-center', 'object-cover', 'mx-auto')>,\n",
       " <Element 'img' src='data:,' alt='ADB engages with interim govt to support Bangladesh’s development' class=('v-lazy-image', 'aspect-w-3', 'aspect-h-2', 'pb-0', 'object-center', 'object-cover', 'mx-auto')>,\n",
       " <Element 'img' src='data:,' alt='Abdur Rahman Khan appointed NBR chairman' class=('v-lazy-image', 'aspect-w-3', 'aspect-h-2', 'pb-0', 'object-center', 'object-cover', 'mx-auto')>,\n",
       " <Element 'img' src='data:,' alt='New BB governor hopes to contain inflation within four to five months\\xa0' class=('v-lazy-image', 'aspect-w-3', 'aspect-h-2', 'pb-0', 'object-center', 'object-cover', 'mx-auto')>,\n",
       " <Element 'img' src='data:,' alt='Bangladesh’s volatile political situation elevates banking sector risks' class=('v-lazy-image', 'aspect-w-3', 'aspect-h-2', 'pb-0', 'object-center', 'object-cover', 'mx-auto')>,\n",
       " <Element 'img' src='data:,' alt='IMF team to visit Dhaka in Oct for loan review' class=('v-lazy-image', 'aspect-w-3', 'aspect-h-2', 'pb-0', 'object-center', 'object-cover', 'mx-auto')>]"
      ]
     },
     "execution_count": 54,
     "metadata": {},
     "output_type": "execute_result"
    }
   ],
   "source": [
    "response.html.find('img')"
   ]
  },
  {
   "cell_type": "code",
   "execution_count": null,
   "metadata": {},
   "outputs": [],
   "source": []
  },
  {
   "cell_type": "code",
   "execution_count": 4,
   "metadata": {},
   "outputs": [
    {
     "name": "stdout",
     "output_type": "stream",
     "text": [
      "Ongoing large and megaprojects will be reviewed and less-priority and \"politically motivated\" ones scrapped, says Planning and Education Adviser Prof Wahiduddin Mahmud of the interim government. \"There are irregularities in taking up projects as some are undertaken by the influence of the co\n",
      "The Governor of the Bangladesh Bank Dr Ahsan H Mansur has announced that weak banks including the Shariah-based banks will no longer receive illegal liquidity support from the central bank. He stated that actions will be taken against individuals involved in irregularities, not against institution\n",
      "The government has raised the ceiling for its emergency borrowing tools by 50 per cent to manage fiscal deficits amid poor resource mobilisation, according to an official document, as economists warned that this could exacerbate inflationary discomfort. There are two popular emergency borrowing to\n",
      "Newly appointed Chairman of the National Board of Revenue (NBR) Md Abdur Rahman Khan said he personally considers the black money whitening scheme \"totally unacceptable\" and it is \"indecent and unfair\" to regular taxpayers. \"Not as the NBR chairman, but my personal view is that the money whitening\n",
      "National Board of Revenue (NBR) Chairman Md Abdur Rahman Khan has strongly criticised the practice of whitening black money, calling it an “indecent deed” and “totally unacceptable,” during a views exchange meeting on Sunday. “Personally, I believe that the practice o\n",
      "Starting from Sunday, the Bangladesh Bank has set a new cash withdrawal limit of Tk 300,000 via cheques, up from the previous limit of Tk 200,000. The decision was communicated to all commercial banks on Saturday, with the central bank directing strict adherence to the new limit for security reaso\n",
      "After a sharp decline in the annual transactions of the government’s fixed-income tradable securities in the secondary market in FY23, the transaction bounded back in the past fiscal year (FY24). Statistics available with Bangladesh Bank showed that the combined value of annual secondary tra\n",
      "Bangladeshi expatriates are now upbeat about sending remittance back home through the formal channel as they rest reassured that the country is on track after the formation of an interim government. Migrants abroad raised voices against the Sheikh Hasina government's oppression of people during th\n",
      "The Asian Development Bank (ADB) has engaged with the interim government to support Bangladesh’s development strides. “ADB is fully committed to our long-standing partnership with Bangladesh, supporting its sustainable development in alignment with the aspirations of its people. Our co\n",
      "Md Abdur Rahman Khan, Secretary of the Financial Institutions Division, has been appointed as the Chairman of the National Board of Revenue (NBR). The Ministry of Public Administration issued a notification regarding this decision on Wednesday. Earlier in the day, the contractual appointments of\n",
      "Bangladesh Bank (BB) Governor Ahsan H Mansur has said the inflation will be controlled within four to five months. After a meeting at the finance ministry on Wednesday, the new governor said the foreign exchange reserves will be used in importing essential commodities after keeping aside a comfort\n",
      "S&P Global Ratings on Wednesday said the political situation in Bangladesh has exacerbated the banking industry's frailties, including weak liquidity, thin capital buffers, and ailing asset quality. \"We see the risk of policy inaction and a potential slowdown in financial reforms,\" said S&P Global\n",
      "An International Monetary Fund (IMF) team is scheduled to visit Dhaka between 2 and 17 October to assess Bangladesh's progress in using the third tranche of its US$4.7 billion loan programme and to discuss the release of the fourth instalment, according to an official letter. The Finance Division\n",
      "PABX : 02223389780 (Hunting)\n",
      "Mobile: 01917231083\n",
      "Fax : 880-2-02223387049\n",
      "You'll get monthly newsletter from us!\n",
      "© 2024 - All Rights with The Financial Express\n"
     ]
    }
   ],
   "source": [
    "news_body = []\n",
    "all_p = response.html.find('p')\n",
    "for p in all_p:\n",
    "    # print(p.text)\n",
    "    news_body.append(p.text)\n",
    "news_body = '\\n'.join(news_body)\n",
    "print(news_body)"
   ]
  },
  {
   "cell_type": "code",
   "execution_count": 42,
   "metadata": {},
   "outputs": [
    {
     "data": {
      "text/plain": [
       "'BN\\nWednesday, 21 August 2024\\nArchive | Wednesday, 21 August 2024\\nBN\\nHome\\nEconomy\\nBangladesh\\nGlobal\\nStock\\nBangladesh\\nGlobal\\nTrade\\nNational\\nPolitics\\nCountry\\nLaw & Order\\nWorld\\nAmerica\\nAsia/South Asia\\nEurope\\nAfrica\\nEditorial\\nViews\\nReviews\\nOpinions\\nColumns\\nAnalysis\\nLetters\\nEconomic Trends and Insights\\nMore\\nEducation\\nArticle\\nMedia\\nBangla\\nSci-Tech\\nHealth\\nSports\\nCricket\\nFootball\\nMore Sports\\nLifestyle\\nLiving\\nEntertainment\\nFood\\nCulture\\nOthers\\nEnvironment\\nJobs and Opportunities\\nYouth and Entrepreneurs\\nStartups\\nToday\\'s FE\\nE-Paper\\n31st year of publication\\n30th anniversary issue-I\\n30th anniversary issue-II\\n30th anniversary issue-III\\nThe Financial Express\\nEconomy / Bangladesh\\nBangladesh\\nFund-sapping motivated megaprojects may be axed\\nOngoing large and megaprojects will be reviewed and less-priority and \"politically motivated\" ones scrapped, says Planning and Education Adviser Prof Wahiduddin Mahmud of the interim government. \"There are irregularities in taking up projects as some are undertaken by the influence of the co\\nBangladesh\\nNo more ‘illegal’ liquidity support for weak banks: BB governor\\nThe Governor of the Bangladesh Bank Dr Ahsan H Mansur has announced that weak banks including the Shariah-based banks will no longer receive illegal liquidity support from the central bank. He stated that actions will be taken against individuals involved in irregularities, not against institution\\nBangladesh\\nGovt raises emergency borrowing ceiling 50pc\\nThe government has raised the ceiling for its emergency borrowing tools by 50 per cent to manage fiscal deficits amid poor resource mobilisation, according to an official document, as economists warned that this could exacerbate inflationary discomfort. There are two popular emergency borrowing to\\nBangladesh\\nRevenue chief slams black money whitening scheme\\nNewly appointed Chairman of the National Board of Revenue (NBR) Md Abdur Rahman Khan said he personally considers the black money whitening scheme \"totally unacceptable\" and it is \"indecent and unfair\" to regular taxpayers. \"Not as the NBR chairman, but my personal view is that the money whitening\\nBangladesh\\nNew NBR chief calls black money whitening scope an indecent deed\\nNational Board of Revenue (NBR) Chairman Md Abdur Rahman Khan has strongly criticised the practice of whitening black money, calling it an “indecent deed” and “totally unacceptable,” during a views exchange meeting on Sunday. “Personally, I believe that the practice o\\nBangladesh\\nBangladesh Bank raises cash withdrawal limit to Tk 300,000\\nStarting from Sunday, the Bangladesh Bank has set a new cash withdrawal limit of Tk 300,000 via cheques, up from the previous limit of Tk 200,000. The decision was communicated to all commercial banks on Saturday, with the central bank directing strict adherence to the new limit for security reaso\\nBangladesh\\nSecondary trading of treasury bills, bonds jumps 56 pc in FY24\\nAfter a sharp decline in the annual transactions of the government’s fixed-income tradable securities in the secondary market in FY23, the transaction bounded back in the past fiscal year (FY24). Statistics available with Bangladesh Bank showed that the combined value of annual secondary tra\\nBangladesh\\nExpats keen to remit thru banking channel\\nBangladeshi expatriates are now upbeat about sending remittance back home through the formal channel as they rest reassured that the country is on track after the formation of an interim government. Migrants abroad raised voices against the Sheikh Hasina government\\'s oppression of people during th\\nBangladesh\\nADB engages with interim govt to support Bangladesh’s development\\nThe Asian Development Bank (ADB) has engaged with the interim government to support Bangladesh’s development strides. “ADB is fully committed to our long-standing partnership with Bangladesh, supporting its sustainable development in alignment with the aspirations of its people. Our co\\nBangladesh\\nAbdur Rahman Khan appointed NBR chairman\\nMd Abdur Rahman Khan, Secretary of the Financial Institutions Division, has been appointed as the Chairman of the National Board of Revenue (NBR). The Ministry of Public Administration issued a notification regarding this decision on Wednesday. Earlier in the day, the contractual appointments of\\nBangladesh\\nNew BB governor hopes to contain inflation within four to five months\\nBangladesh Bank (BB) Governor Ahsan H Mansur has said the inflation will be controlled within four to five months. After a meeting at the finance ministry on Wednesday, the new governor said the foreign exchange reserves will be used in importing essential commodities after keeping aside a comfort\\nBangladesh\\nBangladesh’s volatile political situation elevates banking sector risks\\nS&P Global Ratings on Wednesday said the political situation in Bangladesh has exacerbated the banking industry\\'s frailties, including weak liquidity, thin capital buffers, and ailing asset quality. \"We see the risk of policy inaction and a potential slowdown in financial reforms,\" said S&P Global\\nBangladesh\\nIMF team to visit Dhaka in Oct for loan review\\nAn International Monetary Fund (IMF) team is scheduled to visit Dhaka between 2 and 17 October to assess Bangladesh\\'s progress in using the third tranche of its US$4.7 billion loan programme and to discuss the release of the fourth instalment, according to an official letter. The Finance Division\\nEditor: Shamsul Huq Zahid\\nPublished by Syed Manzur Elahi for International Publications Limited from Tropicana Tower (4th floor), 45, Topkhana Road, GPO Box : 2526 Dhaka- 1000 and printed by him from The Transcraft Limited, 229, Tejgaon Industrial Area, Dhaka-1208\\nPABX : 02223389780 (Hunting)\\nMobile: 01917231083\\nFax : 880-2-02223387049\\nEmail: [email\\xa0protected]\\n[email\\xa0protected]\\n[email\\xa0protected]\\nQuick links\\nHome\\nEconomy\\nStock\\nTrade\\nNational\\nWorld\\nViews\\n--------\\nEducation\\nSci-Tech\\nHealth\\nSports\\nLifestyle\\nEnvironment\\n--------\\nAll News\\nToday\\'s FE\\nE-paper\\nOnline Rates\\nAd Tariff\\nSitemap\\nSubscribe to Newsletter\\nSubscribe\\nYou\\'ll get monthly newsletter from us!\\n© 2024 - All Rights with The Financial Express\\nAbout Us\\nContact Us\\nTerms of Service'"
      ]
     },
     "execution_count": 42,
     "metadata": {},
     "output_type": "execute_result"
    }
   ],
   "source": [
    "\n",
    "datetime_element = response.html.find('div', first=True).text\n",
    "\n",
    "datetime_element"
   ]
  },
  {
   "cell_type": "code",
   "execution_count": 45,
   "metadata": {},
   "outputs": [
    {
     "name": "stdout",
     "output_type": "stream",
     "text": [
      "Wednesday, 21 August 2024\n"
     ]
    }
   ],
   "source": [
    "import re\n",
    "\n",
    "# Sample text from datetime_element\n",
    "datetime_element = \"\"\"BN\\nWednesday, 21 August 2024\\nArchive | Wednesday, 21 August 2024\\nBN\\n...\"\"\"\n",
    "\n",
    "# Regular expression to match the day and date format (e.g., \"Wednesday, 21 August 2024\")\n",
    "date_pattern = r'\\b[A-Za-z]+day, \\d{1,2} \\w+ \\d{4}'\n",
    "\n",
    "# Find the first match in the text\n",
    "match = re.search(date_pattern, datetime_element)\n",
    "\n",
    "if match:\n",
    "    date_str = match.group(0)\n",
    "    print( date_str)\n",
    "else:\n",
    "    print(\"No date found.\")"
   ]
  },
  {
   "cell_type": "code",
   "execution_count": 6,
   "metadata": {},
   "outputs": [],
   "source": [
    "images = response.html.find('#f91ea423-844b-4374-b73b-6abdeac72a51 > div.storyCard.eyOoS > div:nth-child(2) > div > div:nth-child(1) > div > figure > picture > img')"
   ]
  },
  {
   "cell_type": "code",
   "execution_count": null,
   "metadata": {},
   "outputs": [],
   "source": []
  }
 ],
 "metadata": {
  "kernelspec": {
   "display_name": "base",
   "language": "python",
   "name": "python3"
  },
  "language_info": {
   "codemirror_mode": {
    "name": "ipython",
    "version": 3
   },
   "file_extension": ".py",
   "mimetype": "text/x-python",
   "name": "python",
   "nbconvert_exporter": "python",
   "pygments_lexer": "ipython3",
   "version": "3.12.5"
  }
 },
 "nbformat": 4,
 "nbformat_minor": 2
}
